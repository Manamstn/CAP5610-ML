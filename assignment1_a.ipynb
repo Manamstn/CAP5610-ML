{
  "nbformat": 4,
  "nbformat_minor": 0,
  "metadata": {
    "colab": {
      "provenance": [],
      "authorship_tag": "ABX9TyM4dkrb03qOsaGdLlTxtbdE",
      "include_colab_link": true
    },
    "kernelspec": {
      "name": "python3",
      "display_name": "Python 3"
    },
    "language_info": {
      "name": "python"
    }
  },
  "cells": [
    {
      "cell_type": "markdown",
      "metadata": {
        "id": "view-in-github",
        "colab_type": "text"
      },
      "source": [
        "<a href=\"https://colab.research.google.com/github/Manamstn/CAP5610-ML/blob/main/assignment1_a.ipynb\" target=\"_parent\"><img src=\"https://colab.research.google.com/assets/colab-badge.svg\" alt=\"Open In Colab\"/></a>"
      ]
    },
    {
      "cell_type": "code",
      "execution_count": null,
      "metadata": {
        "id": "-SHub0yGp55p"
      },
      "outputs": [],
      "source": [
        "import numpy as np"
      ]
    },
    {
      "cell_type": "code",
      "source": [
        "#two randomly generated vectors\n",
        "x = np.random.randn(5)\n",
        "y = np.random.randn(5)"
      ],
      "metadata": {
        "id": "nR9iR8QEqUBK"
      },
      "execution_count": null,
      "outputs": []
    },
    {
      "cell_type": "code",
      "source": [
        "#this function calculates the Euclidean Distance\n",
        "def euclidean_distance(x,y):\n",
        "  # x-y\n",
        "  sub = x - y\n",
        "  # (x-y)^2\n",
        "  sub_two = sub**2\n",
        "  # sum of (x-y)^2\n",
        "  total_sum = np.sum(sub_two)\n",
        "  # square root of sum of (x-y)^2\n",
        "  d_xy = np.sqrt(total_sum)\n",
        "  return d_xy\n",
        "  #print(f\"numpy euclidean distance: {d_xy}\")"
      ],
      "metadata": {
        "id": "1pFl0lS8rotn"
      },
      "execution_count": null,
      "outputs": []
    },
    {
      "cell_type": "code",
      "source": [
        "#this function calculates the Cosine Similarity\n",
        "def cos_sim(d1,d2):\n",
        "  #inner product of d1 and d2\n",
        "  d1_d2 = np.dot(d1,d2)\n",
        "  #length of d1\n",
        "  l_d1 = np.linalg.norm(d1)\n",
        "  #length od d2\n",
        "  l_d2 = np.linalg.norm(d2)\n",
        "  #cose(d1,d2)\n",
        "  cos_d1d2 = d1_d2 / (l_d1 * l_d2)\n",
        "  return cos_d1d2"
      ],
      "metadata": {
        "id": "zqltopY9u3-C"
      },
      "execution_count": null,
      "outputs": []
    },
    {
      "cell_type": "code",
      "source": [
        "def correlation(c1,c2):\n",
        "  #covariance(c1,c2)\n",
        "  covar_matrix = np.cov(c1,c2)\n",
        "  cov_c1c2 = covar_matrix[0,1]\n",
        "  #standard deviation c1\n",
        "  std_c1 = np.std(c1, ddof=1)\n",
        "  #standard deviation c2\n",
        "  std_c2 = np.std(c2, ddof=1)\n",
        "  #corr(c1,c2)\n",
        "  corr_c1c2 = cov_c1c2 / (std_c1 * std_c2)\n",
        "  return corr_c1c2"
      ],
      "metadata": {
        "id": "GVa82HkngDor"
      },
      "execution_count": null,
      "outputs": []
    },
    {
      "cell_type": "code",
      "source": [
        "def printing():\n",
        "  print(f\"Euclidean Distance is: {euclidean_distance(x,y)}\")\n",
        "  print(f\"Cosine Similarity is: {cos_sim(x,y)}\")\n",
        "  print(f\"Correlation is: {correlation(x,y)}\")"
      ],
      "metadata": {
        "id": "3ihYk67gsw0a"
      },
      "execution_count": null,
      "outputs": []
    },
    {
      "cell_type": "code",
      "source": [
        "printing()"
      ],
      "metadata": {
        "colab": {
          "base_uri": "https://localhost:8080/"
        },
        "id": "zTKoDNlKtQAq",
        "outputId": "e35cf160-cfc8-44e3-a268-7eced0573d91"
      },
      "execution_count": null,
      "outputs": [
        {
          "output_type": "stream",
          "name": "stdout",
          "text": [
            "Euclidean Distance is: 5.427928202081639\n",
            "Cosine Similarity is: -0.5882016266157019\n",
            "Correlation is: 0.16962982969125975\n"
          ]
        }
      ]
    }
  ]
}