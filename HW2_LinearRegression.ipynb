{
  "nbformat": 4,
  "nbformat_minor": 0,
  "metadata": {
    "colab": {
      "provenance": [],
      "authorship_tag": "ABX9TyO5Lxt7QG5YzWdPwfKJhamk",
      "include_colab_link": true
    },
    "kernelspec": {
      "name": "python3",
      "display_name": "Python 3"
    },
    "language_info": {
      "name": "python"
    }
  },
  "cells": [
    {
      "cell_type": "markdown",
      "metadata": {
        "id": "view-in-github",
        "colab_type": "text"
      },
      "source": [
        "<a href=\"https://colab.research.google.com/github/Manamstn/CAP5610-ML/blob/main/HW2_LinearRegression.ipynb\" target=\"_parent\"><img src=\"https://colab.research.google.com/assets/colab-badge.svg\" alt=\"Open In Colab\"/></a>"
      ]
    },
    {
      "cell_type": "code",
      "execution_count": null,
      "metadata": {
        "id": "SvpuHsGQ_S49"
      },
      "outputs": [],
      "source": [
        "#MANA MOSTAANI\n",
        "#HW2_Problem1\n",
        "import matplotlib.pyplot as plt\n",
        "import numpy as np\n",
        "import pandas as pd"
      ]
    },
    {
      "cell_type": "code",
      "source": [
        "#reading csv file into df\n",
        "df = pd.read_csv(\"HW2_linear_data.csv\", header=None)\n",
        "\n",
        "# Linear Regression\n",
        "def linear_reg(x,y):\n",
        "\n",
        "\n",
        "    w = np.random.randn()\n",
        "    b = np.random.randn()\n",
        "\n",
        "    alfa = 0.0001\n",
        "\n",
        "    # predict = wx + b\n",
        "    for i in range(1000):\n",
        "        predict = w*x + b\n",
        "\n",
        "        #MSE\n",
        "        loss_func = np.mean((y - predict)**2)\n",
        "\n",
        "        #Gradient Descent\n",
        "        w = w - (alfa* np.mean((predict - y)*x))\n",
        "        b = b - (alfa* np.mean(predict - y))\n",
        "\n",
        "    return w,b\n",
        "\n"
      ],
      "metadata": {
        "id": "s6O9Vhyb_Z_z"
      },
      "execution_count": null,
      "outputs": []
    },
    {
      "cell_type": "code",
      "source": [
        "w,b = linear_reg(df[0], df[1])"
      ],
      "metadata": {
        "id": "8DlDdXapy_ek"
      },
      "execution_count": null,
      "outputs": []
    },
    {
      "cell_type": "code",
      "source": [
        "#ploting the data\n",
        "plt.scatter(df[0],df[1])\n",
        "#ploting the linear regression\n",
        "plt.plot(df[0],df[0]*w + b, color=\"red\")"
      ],
      "metadata": {
        "colab": {
          "base_uri": "https://localhost:8080/",
          "height": 448
        },
        "id": "07xiKdON8v1c",
        "outputId": "f2bf5967-f1c8-40b2-bb34-54c7d43c0d51"
      },
      "execution_count": null,
      "outputs": [
        {
          "output_type": "execute_result",
          "data": {
            "text/plain": [
              "[<matplotlib.lines.Line2D at 0x78ebaeac8b20>]"
            ]
          },
          "metadata": {},
          "execution_count": 24
        },
        {
          "output_type": "display_data",
          "data": {
            "text/plain": [
              "<Figure size 640x480 with 1 Axes>"
            ],
            "image/png": "[encoded data removed]"
          },
          "metadata": {}
        }
      ]
    },
    {
      "cell_type": "code",
      "source": [],
      "metadata": {
        "id": "kxGZ-ZeK928s"
      },
      "execution_count": null,
      "outputs": []
    }
  ]
}