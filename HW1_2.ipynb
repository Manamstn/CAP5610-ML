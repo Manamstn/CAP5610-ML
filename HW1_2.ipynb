{
  "nbformat": 4,
  "nbformat_minor": 0,
  "metadata": {
    "colab": {
      "provenance": [],
      "authorship_tag": "ABX9TyMEXZ7A6zTpfe7itUZZCd++",
      "include_colab_link": true
    },
    "kernelspec": {
      "name": "python3",
      "display_name": "Python 3"
    },
    "language_info": {
      "name": "python"
    }
  },
  "cells": [
    {
      "cell_type": "markdown",
      "metadata": {
        "id": "view-in-github",
        "colab_type": "text"
      },
      "source": [
        "<a href=\"https://colab.research.google.com/github/Manamstn/CAP5610-ML/blob/main/assignment1_b.ipynb\" target=\"_parent\"><img src=\"https://colab.research.google.com/assets/colab-badge.svg\" alt=\"Open In Colab\"/></a>"
      ]
    },
    {
      "cell_type": "code",
      "source": [
        "import numpy as np\n",
        "import scipy"
      ],
      "metadata": {
        "id": "ejJ0vFINyIPn"
      },
      "execution_count": null,
      "outputs": []
    },
    {
      "cell_type": "code",
      "source": [
        "x = np.random.randn(5)\n",
        "y = np.random.randn(5)\n",
        "\n",
        "#Correlation\n",
        "\n",
        "corr, _ = scipy.stats.pearsonr(x,y)"
      ],
      "metadata": {
        "id": "Gs8_ubYjvXyD"
      },
      "execution_count": null,
      "outputs": []
    },
    {
      "cell_type": "code",
      "source": [
        "#Cosine Similarity\n",
        "cos_sim = 1 - scipy.spatial.distance.cosine(x,y)"
      ],
      "metadata": {
        "id": "kwPrFdmQyM2L"
      },
      "execution_count": null,
      "outputs": []
    },
    {
      "cell_type": "code",
      "source": [
        "#Euclidean Distance\n",
        "euc_dis = scipy.spatial.distance.euclidean(x,y)"
      ],
      "metadata": {
        "id": "iUoA_eKkydbJ"
      },
      "execution_count": null,
      "outputs": []
    },
    {
      "cell_type": "code",
      "source": [
        "print(f\"Euclidean Distance is: {euc_dis}\")\n",
        "print(f\"Cosine Similarity is: {cos_sim}\")\n",
        "print(f\"Correlation is: {corr}\")"
      ],
      "metadata": {
        "colab": {
          "base_uri": "https://localhost:8080/"
        },
        "id": "VQBTm6Y-z4sK",
        "outputId": "116ab387-3654-4ae0-8158-b5c20864f8d9"
      },
      "execution_count": null,
      "outputs": [
        {
          "output_type": "stream",
          "name": "stdout",
          "text": [
            "Euclidean Distance is: 2.611091978692308\n",
            "Cosine Similarity is: 0.48273411839882097\n",
            "Correlation is: 0.5395198275005109\n"
          ]
        }
      ]
    }
  ]
}
